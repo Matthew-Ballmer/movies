{
 "cells": [
  {
   "cell_type": "code",
   "execution_count": 3,
   "metadata": {},
   "outputs": [],
   "source": [
    "from datetime import datetime\n",
    "\n",
    "from movies.models import Movie\n",
    "\n",
    "\n",
    "d = datetime(year=2033, month=1, day=1)\n",
    "\n",
    "movies = Movie.objects.all()\n",
    "for movie in movies:\n",
    "    #movie.download_info()\n",
    "    movie.dvd_release_date_status = movie.NOT_RECEIVED_STATUS\n",
    "    movie.save()"
   ]
  }
 ],
 "metadata": {
  "kernelspec": {
   "display_name": "Django Shell-Plus",
   "language": "python",
   "name": "django_extensions"
  },
  "language_info": {
   "codemirror_mode": {
    "name": "ipython",
    "version": 3
   },
   "file_extension": ".py",
   "mimetype": "text/x-python",
   "name": "python",
   "nbconvert_exporter": "python",
   "pygments_lexer": "ipython3",
   "version": "3.6.1"
  }
 },
 "nbformat": 4,
 "nbformat_minor": 2
}
